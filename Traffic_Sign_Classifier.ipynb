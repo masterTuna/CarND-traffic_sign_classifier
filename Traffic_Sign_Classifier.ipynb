{
 "cells": [
  {
   "cell_type": "markdown",
   "metadata": {},
   "source": [
    "# Self-Driving Car Engineer Nanodegree\n",
    "\n",
    "## Deep Learning\n",
    "\n",
    "## Project: Build a Traffic Sign Recognition Classifier\n",
    "\n",
    "In this notebook, a template is provided for you to implement your functionality in stages, which is required to successfully complete this project. If additional code is required that cannot be included in the notebook, be sure that the Python code is successfully imported and included in your submission if necessary. \n",
    "\n",
    "> **Note**: Once you have completed all of the code implementations, you need to finalize your work by exporting the iPython Notebook as an HTML document. Before exporting the notebook to html, all of the code cells need to have been run so that reviewers can see the final implementation and output. You can then export the notebook by using the menu above and navigating to  \\n\",\n",
    "    \"**File -> Download as -> HTML (.html)**. Include the finished document along with this notebook as your submission. \n",
    "\n",
    "In addition to implementing code, there is a writeup to complete. The writeup should be completed in a separate file, which can be either a markdown file or a pdf document. There is a [write up template](https://github.com/udacity/CarND-Traffic-Sign-Classifier-Project/blob/master/writeup_template.md) that can be used to guide the writing process. Completing the code template and writeup template will cover all of the [rubric points](https://review.udacity.com/#!/rubrics/481/view) for this project.\n",
    "\n",
    "The [rubric](https://review.udacity.com/#!/rubrics/481/view) contains \"Stand Out Suggestions\" for enhancing the project beyond the minimum requirements. The stand out suggestions are optional. If you decide to pursue the \"stand out suggestions\", you can include the code in this Ipython notebook and also discuss the results in the writeup file.\n",
    "\n",
    "\n",
    ">**Note:** Code and Markdown cells can be executed using the **Shift + Enter** keyboard shortcut. In addition, Markdown cells can be edited by typically double-clicking the cell to enter edit mode."
   ]
  },
  {
   "cell_type": "markdown",
   "metadata": {},
   "source": [
    "---\n",
    "## Step 0: Load The Data"
   ]
  },
  {
   "cell_type": "code",
   "execution_count": 1,
   "metadata": {},
   "outputs": [],
   "source": [
    "# Load pickled data\n",
    "import pickle\n",
    "\n",
    "# TODO: Fill this in based on where you saved the training and testing data\n",
    "\n",
    "training_file = r'C:\\Downloads\\Tensor\\train.p'\n",
    "validation_file= r'C:\\Downloads\\Tensor\\valid.p'\n",
    "testing_file = r'C:\\Downloads\\Tensor\\test.p'\n",
    "\n",
    "with open(training_file, mode='rb') as f:\n",
    "    train = pickle.load(f)\n",
    "with open(validation_file, mode='rb') as f:\n",
    "    valid = pickle.load(f)\n",
    "with open(testing_file, mode='rb') as f:\n",
    "    test = pickle.load(f)\n",
    "    \n",
    "X_train, y_train = train['features'], train['labels']\n",
    "X_valid, y_valid = valid['features'], valid['labels']\n",
    "X_test, y_test = test['features'], test['labels']"
   ]
  },
  {
   "cell_type": "markdown",
   "metadata": {},
   "source": [
    "---\n",
    "\n",
    "## Step 1: Dataset Summary & Exploration\n",
    "\n",
    "The pickled data is a dictionary with 4 key/value pairs:\n",
    "\n",
    "- `'features'` is a 4D array containing raw pixel data of the traffic sign images, (num examples, width, height, channels).\n",
    "- `'labels'` is a 1D array containing the label/class id of the traffic sign. The file `signnames.csv` contains id -> name mappings for each id.\n",
    "- `'sizes'` is a list containing tuples, (width, height) representing the original width and height the image.\n",
    "- `'coords'` is a list containing tuples, (x1, y1, x2, y2) representing coordinates of a bounding box around the sign in the image. **THESE COORDINATES ASSUME THE ORIGINAL IMAGE. THE PICKLED DATA CONTAINS RESIZED VERSIONS (32 by 32) OF THESE IMAGES**\n",
    "\n",
    "Complete the basic data summary below. Use python, numpy and/or pandas methods to calculate the data summary rather than hard coding the results. For example, the [pandas shape method](http://pandas.pydata.org/pandas-docs/stable/generated/pandas.DataFrame.shape.html) might be useful for calculating some of the summary results. "
   ]
  },
  {
   "cell_type": "markdown",
   "metadata": {},
   "source": [
    "### Provide a Basic Summary of the Data Set Using Python, Numpy and/or Pandas"
   ]
  },
  {
   "cell_type": "code",
   "execution_count": 2,
   "metadata": {},
   "outputs": [
    {
     "name": "stdout",
     "output_type": "stream",
     "text": [
      "Number of training examples = 34799\n",
      "Number of validation examples = 4410\n",
      "Number of testing examples = 12630\n",
      "Image data shape = (32, 32, 3)\n",
      "Number of classes = 43\n"
     ]
    }
   ],
   "source": [
    "### Replace each question mark with the appropriate value. \n",
    "### Use python, pandas or numpy methods rather than hard coding the results\n",
    "import numpy as np\n",
    "# TODO: Number of training examples\n",
    "n_train = len(X_train)\n",
    "\n",
    "# TODO: Number of validation examples\n",
    "n_validation = len(X_valid)\n",
    "\n",
    "# TODO: Number of testing examples.\n",
    "n_test = len(X_test)\n",
    "\n",
    "# TODO: What's the shape of an traffic sign image?\n",
    "image_shape = X_train[0].shape\n",
    "\n",
    "# TODO: How many unique classes/labels there are in the dataset.\n",
    "n_classes = len(np.unique(y_train))\n",
    "\n",
    "print(\"Number of training examples =\", n_train)\n",
    "print(\"Number of validation examples =\", n_validation)\n",
    "print(\"Number of testing examples =\", n_test)\n",
    "print(\"Image data shape =\", image_shape)\n",
    "print(\"Number of classes =\", n_classes)"
   ]
  },
  {
   "cell_type": "markdown",
   "metadata": {},
   "source": [
    "### Include an exploratory visualization of the dataset"
   ]
  },
  {
   "cell_type": "markdown",
   "metadata": {},
   "source": [
    "Visualize the German Traffic Signs Dataset using the pickled file(s). This is open ended, suggestions include: plotting traffic sign images, plotting the count of each sign, etc. \n",
    "\n",
    "The [Matplotlib](http://matplotlib.org/) [examples](http://matplotlib.org/examples/index.html) and [gallery](http://matplotlib.org/gallery.html) pages are a great resource for doing visualizations in Python.\n",
    "\n",
    "**NOTE:** It's recommended you start with something simple first. If you wish to do more, come back to it after you've completed the rest of the sections. It can be interesting to look at the distribution of classes in the training, validation and test set. Is the distribution the same? Are there more examples of some classes than others?"
   ]
  },
  {
   "cell_type": "code",
   "execution_count": 3,
   "metadata": {},
   "outputs": [
    {
     "name": "stdout",
     "output_type": "stream",
     "text": [
      "\n"
     ]
    },
    {
     "data": {
      "image/png": "[encoded data removed]",
      "text/plain": [
       "<matplotlib.figure.Figure at 0x222c2523588>"
      ]
     },
     "metadata": {},
     "output_type": "display_data"
    }
   ],
   "source": [
    "### Data exploration visualization code goes here.\n",
    "### Feel free to use as many code cells as needed.\n",
    "import matplotlib.pyplot as plt\n",
    "import random\n",
    "# Visualizations will be shown in the notebook.\n",
    "%matplotlib inline\n",
    "# pre-processing signnames.csv file\n",
    "signdict = {}\n",
    "with open('signnames.csv', 'r') as f:\n",
    "    f.readline()\n",
    "    while True:\n",
    "        line = f.readline()\n",
    "        if not line:\n",
    "            break\n",
    "        cid, name = line.split(',')\n",
    "        name.rstrip()\n",
    "        signdict[int(cid)] = name\n",
    "n_sign = 5\n",
    "def show_sign_random(ndisplay, xdataset, ydataset):\n",
    "    used = []\n",
    "    for i in range(ndisplay):\n",
    "        plt.subplot(1,ndisplay,i+1)\n",
    "        while(len(used) < ndisplay):\n",
    "            idx = random.randint(0, len(xdataset))\n",
    "            if idx not in used:\n",
    "                used.append(idx)\n",
    "                image = xdataset[idx].squeeze()\n",
    "                plt.title(\"{}\".format(ydataset[idx]))\n",
    "                plt.imshow(image)\n",
    "                break\n",
    "show_sign_random(n_sign, X_train, y_train)\n",
    "print()"
   ]
  },
  {
   "cell_type": "markdown",
   "metadata": {},
   "source": [
    "----\n",
    "\n",
    "## Step 2: Design and Test a Model Architecture\n",
    "\n",
    "Design and implement a deep learning model that learns to recognize traffic signs. Train and test your model on the [German Traffic Sign Dataset](http://benchmark.ini.rub.de/?section=gtsrb&subsection=dataset).\n",
    "\n",
    "The LeNet-5 implementation shown in the [classroom](https://classroom.udacity.com/nanodegrees/nd013/parts/fbf77062-5703-404e-b60c-95b78b2f3f9e/modules/6df7ae49-c61c-4bb2-a23e-6527e69209ec/lessons/601ae704-1035-4287-8b11-e2c2716217ad/concepts/d4aca031-508f-4e0b-b493-e7b706120f81) at the end of the CNN lesson is a solid starting point. You'll have to change the number of classes and possibly the preprocessing, but aside from that it's plug and play! \n",
    "\n",
    "With the LeNet-5 solution from the lecture, you should expect a validation set accuracy of about 0.89. To meet specifications, the validation set accuracy will need to be at least 0.93. It is possible to get an even higher accuracy, but 0.93 is the minimum for a successful project submission. \n",
    "\n",
    "There are various aspects to consider when thinking about this problem:\n",
    "\n",
    "- Neural network architecture (is the network over or underfitting?)\n",
    "- Play around preprocessing techniques (normalization, rgb to grayscale, etc)\n",
    "- Number of examples per label (some have more than others).\n",
    "- Generate fake data.\n",
    "\n",
    "Here is an example of a [published baseline model on this problem](http://yann.lecun.com/exdb/publis/pdf/sermanet-ijcnn-11.pdf). It's not required to be familiar with the approach used in the paper but, it's good practice to try to read papers like these."
   ]
  },
  {
   "cell_type": "markdown",
   "metadata": {},
   "source": [
    "### Pre-process the Data Set (normalization, grayscale, etc.)"
   ]
  },
  {
   "cell_type": "markdown",
   "metadata": {},
   "source": [
    "Minimally, the image data should be normalized so that the data has mean zero and equal variance. For image data, `(pixel - 128)/ 128` is a quick way to approximately normalize the data and can be used in this project. \n",
    "\n",
    "Other pre-processing steps are optional. You can try different techniques to see if it improves performance. \n",
    "\n",
    "Use the code cell (or multiple code cells, if necessary) to implement the first step of your project."
   ]
  },
  {
   "cell_type": "code",
   "execution_count": 71,
   "metadata": {},
   "outputs": [
    {
     "name": "stdout",
     "output_type": "stream",
     "text": [
      "(34799, 32, 32, 1)\n",
      "(34799, 32, 32, 1)\n",
      "Shape of X_train_gray: (34799, 32, 32, 1)\n",
      "(12630, 32, 32, 1)\n",
      "Shape of X_test_gray: (12630, 32, 32, 1)\n",
      "(4410, 32, 32, 1)\n",
      "Shape of X_valid_gray: (4410, 32, 32, 1)\n",
      "[18808, 1830, 28397, 19393, 25940]\n"
     ]
    },
    {
     "data": {
      "image/png": "[encoded data removed]",
      "text/plain": [
       "<matplotlib.figure.Figure at 0x222929592b0>"
      ]
     },
     "metadata": {},
     "output_type": "display_data"
    }
   ],
   "source": [
    "import cv2\n",
    "def normal_data(x):\n",
    "    return (x - 128)/128\n",
    "### converting to grayscale, etc.\n",
    "#def gray_data(x):\n",
    "#    ret = np.sum(x/3, axis=3, keepdims=True)\n",
    "#    return ret\n",
    "\n",
    "def cv2_gray(img):\n",
    "    return cv2.cvtColor(img, cv2.COLOR_BGR2GRAY)\n",
    "def gray_data(x):\n",
    "    n = len(x)\n",
    "    ret = np.zeros(shape=(n, 32, 32, 1))\n",
    "    print(ret.shape)\n",
    "    for i in range(n):\n",
    "        img = x[i]\n",
    "        ret[i,:,:,0] = cv2_gray(img)\n",
    "    return ret\n",
    "        \n",
    "\n",
    "# train data\n",
    "X_train_gray = gray_data(X_train)\n",
    "print(X_train_gray.shape)\n",
    "X_train_norm = normal_data(X_train_gray)\n",
    "print(\"Shape of X_train_gray:\", X_train_norm.shape)\n",
    "# test data\n",
    "X_test_gray = gray_data(X_test)\n",
    "X_test_norm = normal_data(X_test_gray)\n",
    "print(\"Shape of X_test_gray:\", X_test_norm.shape)\n",
    "# valid data\n",
    "X_valid_gray = gray_data(X_valid)\n",
    "X_valid_norm = normal_data(X_valid_gray)\n",
    "print(\"Shape of X_valid_gray:\", X_valid_norm.shape)\n",
    "\n",
    "# display the original sign, normalized sign and gray sign\n",
    "n_sign = 5\n",
    "use_id = []\n",
    "while len(use_id) < n_sign:\n",
    "    new_id = random.randint(0, len(X_train))\n",
    "    if new_id not in use_id:\n",
    "        use_id.append(new_id)\n",
    "\n",
    "def img_plot(img, pos, title):\n",
    "    plt.subplot(3, n_sign, pos)\n",
    "    plt.imshow(img)\n",
    "    fig = plt.title(title)\n",
    "    fig.axes.get_xaxis().set_visible(False)\n",
    "    \n",
    "print(use_id)\n",
    "for idx in range(n_sign):\n",
    "    img = X_train[use_id[idx]].squeeze()\n",
    "    img_norm = X_train_norm[use_id[idx]].squeeze()\n",
    "    img_gray = X_train_gray[use_id[idx]].squeeze()\n",
    "    img_plot(img, idx+1, \"original\")\n",
    "    img_plot(img_norm, idx+n_sign+1, \"normalized\")\n",
    "    img_plot(img_gray, idx+n_sign*2+1, \"avg\")\n",
    "    \n",
    "plt.subplots_adjust(hspace=.2, wspace=.3)\n"
   ]
  },
  {
   "cell_type": "markdown",
   "metadata": {},
   "source": [
    "### Model Architecture\n",
    "* Input\n",
    "    * Use LeNet architecture with images of 32x32x1 as input(gray image)\n",
    "* Architecture\n",
    "    * Layer 1: Convolutional. The output shape is 28x28x6.\n",
    "    * Activation. relu\n",
    "    * Max pooling. The output shape is 14x14x6.\n",
    "    * Layer 2: Convolutional. The output shape is 10x10x16.\n",
    "    * Activation. relu\n",
    "    * Max pooling. The output shape is 5x5x16.\n",
    "    * Flatten. flatten the data to 1D\n",
    "    * Full Connection layer 1. output is 120\n",
    "    * Activation. relu\n",
    "    * Dropout. 75% keep, avoid overfitting\n",
    "    * Full Connection layer 2. output is 84\n",
    "    * Activation. relu\n",
    "    * Dropout. 75% keep, avoid overfitting\n",
    "    * Full Connection layer 3. output is 43(all classes). output to logits\n",
    "* Output\n",
    "    * Return logits"
   ]
  },
  {
   "cell_type": "code",
   "execution_count": 72,
   "metadata": {},
   "outputs": [],
   "source": [
    "### Define your architecture here.\n",
    "### Feel free to use as many code cells as needed.\n",
    "import tensorflow as tf\n",
    "from tensorflow.contrib.layers import flatten\n",
    "\n",
    "def useLeNet(x):\n",
    "    \"\"\"\n",
    "    target accuracy to be 0.93 and above\n",
    "    \"\"\"\n",
    "    mu = 0\n",
    "    sigma = 0.1\n",
    "    \n",
    "    # conv layer 1: input: 32x32x1 -> output: 28x28x6\n",
    "    conv1_w = tf.Variable(tf.truncated_normal(shape=(5,5,1,6), mean=mu, stddev=sigma))\n",
    "    conv1_b = tf.Variable(tf.zeros(6))\n",
    "    conv1 = tf.nn.conv2d(x, conv1_w, strides=(1,1,1,1), padding='VALID') + conv1_b\n",
    "    \n",
    "    # activation 1\n",
    "    conv1 = tf.nn.relu(conv1)\n",
    "    \n",
    "    # input 28x28x6 -> output: 14x14x6\n",
    "    conv1 = tf.nn.max_pool(conv1, ksize=(1,2,2,1), strides=(1,2,2,1), padding='VALID')\n",
    "    \n",
    "    # conv layer 2 input 14x14x6 -> output: 10x10x16\n",
    "    conv2_w = tf.Variable(tf.truncated_normal(shape=(5,5,6,16), mean=mu, stddev=sigma))\n",
    "    conv2_b = tf.Variable(tf.zeros(16))\n",
    "    conv2 = tf.nn.conv2d(conv1, conv2_w, strides=(1,1,1,1), padding='VALID') + conv2_b\n",
    "    \n",
    "    # activation 2\n",
    "    conv2 = tf.nn.relu(conv2)\n",
    "    \n",
    "    # input 10x10x16 -> output 5x5x16\n",
    "    conv2 = tf.nn.max_pool(conv2, ksize=(1,2,2,1), strides=(1,2,2,1), padding='VALID')\n",
    "    \n",
    "    # flatten 1x1x400\n",
    "    conv2_flat = flatten(conv2)\n",
    "    \n",
    "    # fc1\n",
    "    fc1_w = tf.Variable(tf.truncated_normal(shape=(5*5*16, 120), mean=mu, stddev=sigma))\n",
    "    fc1_b = tf.Variable(tf.zeros(120))\n",
    "    fc1 = tf.add(tf.matmul(conv2_flat, fc1_w), fc1_b)\n",
    "    fc1 = tf.nn.relu(fc1)\n",
    "    fc1 = tf.nn.dropout(fc1, keep_prob)\n",
    "    \n",
    "    # fc2\n",
    "    fc2_w = tf.Variable(tf.truncated_normal(shape=(120, 84), mean=mu, stddev=sigma))\n",
    "    fc2_b = tf.Variable(tf.zeros(84))\n",
    "    fc2 = tf.add(tf.matmul(fc1, fc2_w), fc2_b)\n",
    "    fc2 = tf.nn.relu(fc2)\n",
    "    fc2 = tf.nn.dropout(fc2, keep_prob)\n",
    "    \n",
    "    # logits\n",
    "    fc3_w = tf.Variable(tf.truncated_normal(shape=(84, n_classes), mean=mu, stddev=sigma))\n",
    "    fc3_b = tf.Variable(tf.zeros(n_classes))\n",
    "    logits = tf.add(tf.matmul(fc2, fc3_w), fc3_b)\n",
    "    return logits"
   ]
  },
  {
   "cell_type": "markdown",
   "metadata": {},
   "source": [
    "### Train, Validate and Test the Model"
   ]
  },
  {
   "cell_type": "markdown",
   "metadata": {},
   "source": [
    "A validation set can be used to assess how well the model is performing. A low accuracy on the training and validation\n",
    "sets imply underfitting. A high accuracy on the training set but low accuracy on the validation set implies overfitting."
   ]
  },
  {
   "cell_type": "code",
   "execution_count": 73,
   "metadata": {},
   "outputs": [],
   "source": [
    "# define epoch and batch size\n",
    "EPOCH = 50\n",
    "BATCH_SIZE = 128"
   ]
  },
  {
   "cell_type": "code",
   "execution_count": 74,
   "metadata": {},
   "outputs": [],
   "source": [
    "# train model\n",
    "x = tf.placeholder(tf.float32, (None, 32, 32, 1))\n",
    "y = tf.placeholder(tf.int32, (None))\n",
    "keep_prob = tf.placeholder(tf.float32)\n",
    "one_hot_y = tf.one_hot(y, n_classes)\n",
    "#\n",
    "ratio = 0.0008\n",
    "logits = useLeNet(x)\n",
    "cross_entropy = tf.nn.softmax_cross_entropy_with_logits(labels=one_hot_y, logits=logits)\n",
    "cost_function = tf.reduce_mean(cross_entropy)\n",
    "train_pipe = tf.train.AdamOptimizer(learning_rate=ratio).minimize(cost_function)\n",
    "\n",
    "### Calculate and report the accuracy on the training and validation set.\n",
    "prediction = tf.equal(tf.argmax(logits, 1), tf.argmax(one_hot_y, 1))\n",
    "accuracy = tf.reduce_mean(tf.cast(prediction, tf.float32))\n",
    "saver = tf.train.Saver()\n",
    "def evaluate(x_data, y_data):\n",
    "    total_accuracy = 0\n",
    "    sess = tf.get_default_session()\n",
    "    for i in range(0, len(x_data), BATCH_SIZE):\n",
    "        batch_x, batch_y = x_data[i:i + BATCH_SIZE], y_data[i:i + BATCH_SIZE]\n",
    "        accu = sess.run(accuracy, feed_dict={x:batch_x, y:batch_y, keep_prob:1.0})\n",
    "        total_accuracy += accu * len(batch_x)\n",
    "    return total_accuracy / len(x_data)    \n",
    "\n"
   ]
  },
  {
   "cell_type": "code",
   "execution_count": 75,
   "metadata": {},
   "outputs": [
    {
     "name": "stdout",
     "output_type": "stream",
     "text": [
      "start training\n",
      "epoch 1...\n",
      "current Accuracy: 0.525\n",
      "epoch 2...\n",
      "current Accuracy: 0.761\n",
      "epoch 3...\n",
      "current Accuracy: 0.822\n",
      "epoch 4...\n",
      "current Accuracy: 0.854\n",
      "epoch 5...\n",
      "current Accuracy: 0.875\n",
      "epoch 6...\n",
      "current Accuracy: 0.887\n",
      "epoch 7...\n",
      "current Accuracy: 0.898\n",
      "epoch 8...\n",
      "current Accuracy: 0.910\n",
      "epoch 9...\n",
      "current Accuracy: 0.919\n",
      "epoch 10...\n",
      "current Accuracy: 0.918\n",
      "epoch 11...\n",
      "current Accuracy: 0.918\n",
      "epoch 12...\n",
      "current Accuracy: 0.931\n",
      "epoch 13...\n",
      "current Accuracy: 0.929\n",
      "epoch 14...\n",
      "current Accuracy: 0.943\n",
      "epoch 15...\n",
      "current Accuracy: 0.944\n",
      "epoch 16...\n",
      "current Accuracy: 0.945\n",
      "epoch 17...\n",
      "current Accuracy: 0.945\n",
      "epoch 18...\n",
      "current Accuracy: 0.942\n",
      "epoch 19...\n",
      "current Accuracy: 0.953\n",
      "epoch 20...\n",
      "current Accuracy: 0.950\n",
      "epoch 21...\n",
      "current Accuracy: 0.952\n",
      "epoch 22...\n",
      "current Accuracy: 0.949\n",
      "epoch 23...\n",
      "current Accuracy: 0.960\n",
      "epoch 24...\n",
      "current Accuracy: 0.956\n",
      "epoch 25...\n",
      "current Accuracy: 0.957\n",
      "epoch 26...\n",
      "current Accuracy: 0.954\n",
      "epoch 27...\n",
      "current Accuracy: 0.957\n",
      "epoch 28...\n",
      "current Accuracy: 0.956\n",
      "epoch 29...\n",
      "current Accuracy: 0.964\n",
      "epoch 30...\n",
      "current Accuracy: 0.957\n",
      "epoch 31...\n",
      "current Accuracy: 0.959\n",
      "epoch 32...\n",
      "current Accuracy: 0.957\n",
      "epoch 33...\n",
      "current Accuracy: 0.961\n",
      "epoch 34...\n",
      "current Accuracy: 0.961\n",
      "epoch 35...\n",
      "current Accuracy: 0.970\n",
      "epoch 36...\n",
      "current Accuracy: 0.967\n",
      "epoch 37...\n",
      "current Accuracy: 0.967\n",
      "epoch 38...\n",
      "current Accuracy: 0.966\n",
      "epoch 39...\n",
      "current Accuracy: 0.971\n",
      "epoch 40...\n",
      "current Accuracy: 0.965\n",
      "epoch 41...\n",
      "current Accuracy: 0.959\n",
      "epoch 42...\n",
      "current Accuracy: 0.966\n",
      "epoch 43...\n",
      "current Accuracy: 0.962\n",
      "epoch 44...\n",
      "current Accuracy: 0.966\n",
      "epoch 45...\n",
      "current Accuracy: 0.967\n",
      "epoch 46...\n",
      "current Accuracy: 0.964\n",
      "epoch 47...\n",
      "current Accuracy: 0.964\n",
      "epoch 48...\n",
      "current Accuracy: 0.966\n",
      "epoch 49...\n",
      "current Accuracy: 0.968\n",
      "epoch 50...\n",
      "current Accuracy: 0.962\n",
      "Model saved\n"
     ]
    }
   ],
   "source": [
    "### Train your model here.\n",
    "from sklearn.utils import shuffle\n",
    "with tf.Session() as sess:\n",
    "    sess.run(tf.global_variables_initializer())\n",
    "    print(\"start training\")\n",
    "    for i in range(EPOCH):\n",
    "        x_shuffle, y_shuffle = shuffle(X_train_norm, y_train)\n",
    "        for offset in range(0, len(x_shuffle), BATCH_SIZE):\n",
    "            start = offset\n",
    "            end = offset + BATCH_SIZE\n",
    "            batch_x, batch_y = x_shuffle[start:end], y_shuffle[start:end]\n",
    "            sess.run(train_pipe, feed_dict={x:batch_x, y:batch_y, keep_prob:0.5})\n",
    "        accu = evaluate(X_valid_norm, y_valid)\n",
    "        print(\"epoch {}...\".format(i+1))\n",
    "        print(\"current Accuracy: {:.3f}\".format(accu))\n",
    "    saver.save(sess, \"./lenet\")\n",
    "    print(\"Model saved\")\n",
    "### Once a final model architecture is selected, \n",
    "### the accuracy on the test set should be calculated and reported as well.\n",
    "### Feel free to use as many code cells as needed."
   ]
  },
  {
   "cell_type": "markdown",
   "metadata": {},
   "source": [
    "## test data evaluation"
   ]
  },
  {
   "cell_type": "code",
   "execution_count": 76,
   "metadata": {},
   "outputs": [
    {
     "name": "stdout",
     "output_type": "stream",
     "text": [
      "INFO:tensorflow:Restoring parameters from .\\lenet\n",
      "Test Accuracy = 0.931\n"
     ]
    }
   ],
   "source": [
    "# evaluate test data\n",
    "with tf.Session() as sess:\n",
    "    saver.restore(sess, tf.train.latest_checkpoint('.'))\n",
    "    test_accuracy = evaluate(X_test_gray, y_test)\n",
    "    print(\"Test Accuracy = {:.3f}\".format(test_accuracy))\n"
   ]
  },
  {
   "cell_type": "markdown",
   "metadata": {},
   "source": [
    "---\n",
    "\n",
    "## Step 3: Test a Model on New Images\n",
    "\n",
    "To give yourself more insight into how your model is working, download at least five pictures of German traffic signs from the web and use your model to predict the traffic sign type.\n",
    "\n",
    "You may find `signnames.csv` useful as it contains mappings from the class id (integer) to the actual sign name."
   ]
  },
  {
   "cell_type": "markdown",
   "metadata": {},
   "source": [
    "### Load and Output the Images"
   ]
  },
  {
   "cell_type": "code",
   "execution_count": 91,
   "metadata": {
    "scrolled": true
   },
   "outputs": [
    {
     "data": {
      "image/png": "[encoded data removed]",
      "text/plain": [
       "<matplotlib.figure.Figure at 0x222866b1e48>"
      ]
     },
     "metadata": {},
     "output_type": "display_data"
    }
   ],
   "source": [
    "### Load the images and plot them here. using cv2 to directly get grayscale image\n",
    "import os\n",
    "N_IMAGE = 5\n",
    "folder = r'./sign_from_web/'\n",
    "data = np.zeros((N_IMAGE, 32, 32, 1))\n",
    "idx = 0\n",
    "for filename in os.listdir(folder):\n",
    "    img = cv2.imread(os.path.join(folder, filename), 0)\n",
    "    plt.subplot(1, N_IMAGE, idx+1)\n",
    "    plt.imshow(img)\n",
    "    data[idx,:,:,0] = img\n",
    "    idx += 1\n",
    "\n",
    "\n",
    "\n",
    "### Feel free to use as many code cells as needed."
   ]
  },
  {
   "cell_type": "markdown",
   "metadata": {},
   "source": [
    "### Predict the Sign Type for Each Image"
   ]
  },
  {
   "cell_type": "code",
   "execution_count": 93,
   "metadata": {},
   "outputs": [],
   "source": [
    "### Run the predictions here and use the model to output the prediction for each image.\n",
    "### Make sure to pre-process the images with the same pre-processing pipeline used earlier.\n",
    "### Feel free to use as many code cells as needed.\n",
    "def evalImage(x_data, k):\n",
    "    with tf.Session() as sess:\n",
    "        saver.restore(sess, tf.train.latest_checkpoint('.'))\n",
    "        ret = sess.run(tf.nn.top_k(logits, k), feed_dict={x:x_data, keep_prob:1.0})\n",
    "    return ret"
   ]
  },
  {
   "cell_type": "markdown",
   "metadata": {},
   "source": [
    "### Analyze Performance"
   ]
  },
  {
   "cell_type": "code",
   "execution_count": 101,
   "metadata": {},
   "outputs": [
    {
     "name": "stdout",
     "output_type": "stream",
     "text": [
      "INFO:tensorflow:Restoring parameters from .\\lenet\n",
      "Test Accuracy = 0.800\n"
     ]
    }
   ],
   "source": [
    "### Calculate the accuracy for these 5 new images. \n",
    "### For example, if the model predicted 1 out of 5 signs correctly, it's 20% accurate on these new images.\n",
    "y_web_data = [2,30,27,37, 10]\n",
    "with tf.Session() as sess:\n",
    "    saver.restore(sess, tf.train.latest_checkpoint('.'))\n",
    "    test_accuracy = evaluate(data, y_web_data)\n",
    "    print(\"Test Accuracy = {:.3f}\".format(test_accuracy))\n"
   ]
  },
  {
   "cell_type": "markdown",
   "metadata": {},
   "source": [
    "### Output Top 5 Softmax Probabilities For Each Image Found on the Web"
   ]
  },
  {
   "cell_type": "markdown",
   "metadata": {},
   "source": [
    "For each of the new images, print out the model's softmax probabilities to show the **certainty** of the model's predictions (limit the output to the top 5 probabilities for each image). [`tf.nn.top_k`](https://www.tensorflow.org/versions/r0.12/api_docs/python/nn.html#top_k) could prove helpful here. \n",
    "\n",
    "The example below demonstrates how tf.nn.top_k can be used to find the top k predictions for each image.\n",
    "\n",
    "`tf.nn.top_k` will return the values and indices (class ids) of the top k predictions. So if k=3, for each sign, it'll return the 3 largest probabilities (out of a possible 43) and the correspoding class ids.\n",
    "\n",
    "Take this numpy array as an example. The values in the array represent predictions. The array contains softmax probabilities for five candidate images with six possible classes. `tf.nn.top_k` is used to choose the three classes with the highest probability:\n",
    "\n",
    "```\n",
    "# (5, 6) array\n",
    "a = np.array([[ 0.24879643,  0.07032244,  0.12641572,  0.34763842,  0.07893497,\n",
    "         0.12789202],\n",
    "       [ 0.28086119,  0.27569815,  0.08594638,  0.0178669 ,  0.18063401,\n",
    "         0.15899337],\n",
    "       [ 0.26076848,  0.23664738,  0.08020603,  0.07001922,  0.1134371 ,\n",
    "         0.23892179],\n",
    "       [ 0.11943333,  0.29198961,  0.02605103,  0.26234032,  0.1351348 ,\n",
    "         0.16505091],\n",
    "       [ 0.09561176,  0.34396535,  0.0643941 ,  0.16240774,  0.24206137,\n",
    "         0.09155967]])\n",
    "```\n",
    "\n",
    "Running it through `sess.run(tf.nn.top_k(tf.constant(a), k=3))` produces:\n",
    "\n",
    "```\n",
    "TopKV2(values=array([[ 0.34763842,  0.24879643,  0.12789202],\n",
    "       [ 0.28086119,  0.27569815,  0.18063401],\n",
    "       [ 0.26076848,  0.23892179,  0.23664738],\n",
    "       [ 0.29198961,  0.26234032,  0.16505091],\n",
    "       [ 0.34396535,  0.24206137,  0.16240774]]), indices=array([[3, 0, 5],\n",
    "       [0, 1, 4],\n",
    "       [0, 5, 1],\n",
    "       [1, 3, 5],\n",
    "       [1, 4, 3]], dtype=int32))\n",
    "```\n",
    "\n",
    "Looking just at the first row we get `[ 0.34763842,  0.24879643,  0.12789202]`, you can confirm these are the 3 largest probabilities in `a`. You'll also notice `[3, 0, 5]` are the corresponding indices."
   ]
  },
  {
   "cell_type": "code",
   "execution_count": 99,
   "metadata": {},
   "outputs": [
    {
     "name": "stdout",
     "output_type": "stream",
     "text": [
      "INFO:tensorflow:Restoring parameters from .\\lenet\n",
      "Image 0: [2 5 1 7 3]\n",
      "Image 1: [11 21 30 27 23]\n",
      "Image 2: [27 11 18 21 26]\n",
      "Image 3: [37 35 40 25  1]\n",
      "Image 4: [10 42  9 23  7]\n",
      "Image 0 is Speed limit (50km/h)\n",
      "\n",
      "Image 1 is Right-of-way at the next intersection\n",
      "\n",
      "Image 2 is Pedestrians\n",
      "\n",
      "Image 3 is Go straight or left\n",
      "\n",
      "Image 4 is No passing for vehicles over 3.5 metric tons\n",
      "\n"
     ]
    }
   ],
   "source": [
    "### Print out the top five softmax probabilities for the predictions on the German traffic sign images found on the web. \n",
    "### Feel free to use as many code cells as needed.\n",
    "k = 5\n",
    "ans = evalImage(data, k)\n",
    "for i in range(k):\n",
    "    print(\"Image {}:\".format(i), ans[1][i])\n",
    "## output name of each sign that has the top probability\n",
    "for i in range(k):\n",
    "    print(\"Image {} is {}\".format(i, signdict[ans[1][i][0]]))"
   ]
  },
  {
   "cell_type": "markdown",
   "metadata": {},
   "source": [
    "### Project Writeup\n",
    "\n",
    "Once you have completed the code implementation, document your results in a project writeup using this [template](https://github.com/udacity/CarND-Traffic-Sign-Classifier-Project/blob/master/writeup_template.md) as a guide. The writeup can be in a markdown or pdf file. "
   ]
  },
  {
   "cell_type": "markdown",
   "metadata": {},
   "source": [
    "> **Note**: Once you have completed all of the code implementations and successfully answered each question above, you may finalize your work by exporting the iPython Notebook as an HTML document. You can do this by using the menu above and navigating to  \\n\",\n",
    "    \"**File -> Download as -> HTML (.html)**. Include the finished document along with this notebook as your submission."
   ]
  },
  {
   "cell_type": "markdown",
   "metadata": {},
   "source": [
    "---\n",
    "\n",
    "## Step 4 (Optional): Visualize the Neural Network's State with Test Images\n",
    "\n",
    " This Section is not required to complete but acts as an additional excersise for understaning the output of a neural network's weights. While neural networks can be a great learning device they are often referred to as a black box. We can understand what the weights of a neural network look like better by plotting their feature maps. After successfully training your neural network you can see what it's feature maps look like by plotting the output of the network's weight layers in response to a test stimuli image. From these plotted feature maps, it's possible to see what characteristics of an image the network finds interesting. For a sign, maybe the inner network feature maps react with high activation to the sign's boundary outline or to the contrast in the sign's painted symbol.\n",
    "\n",
    " Provided for you below is the function code that allows you to get the visualization output of any tensorflow weight layer you want. The inputs to the function should be a stimuli image, one used during training or a new one you provided, and then the tensorflow variable name that represents the layer's state during the training process, for instance if you wanted to see what the [LeNet lab's](https://classroom.udacity.com/nanodegrees/nd013/parts/fbf77062-5703-404e-b60c-95b78b2f3f9e/modules/6df7ae49-c61c-4bb2-a23e-6527e69209ec/lessons/601ae704-1035-4287-8b11-e2c2716217ad/concepts/d4aca031-508f-4e0b-b493-e7b706120f81) feature maps looked like for it's second convolutional layer you could enter conv2 as the tf_activation variable.\n",
    "\n",
    "For an example of what feature map outputs look like, check out NVIDIA's results in their paper [End-to-End Deep Learning for Self-Driving Cars](https://devblogs.nvidia.com/parallelforall/deep-learning-self-driving-cars/) in the section Visualization of internal CNN State. NVIDIA was able to show that their network's inner weights had high activations to road boundary lines by comparing feature maps from an image with a clear path to one without. Try experimenting with a similar test to show that your trained network's weights are looking for interesting features, whether it's looking at differences in feature maps from images with or without a sign, or even what feature maps look like in a trained network vs a completely untrained one on the same sign image.\n",
    "\n",
    "<figure>\n",
    " <img src=\"visualize_cnn.png\" width=\"380\" alt=\"Combined Image\" />\n",
    " <figcaption>\n",
    " <p></p> \n",
    " <p style=\"text-align: center;\"> Your output should look something like this (above)</p> \n",
    " </figcaption>\n",
    "</figure>\n",
    " <p></p> \n"
   ]
  },
  {
   "cell_type": "code",
   "execution_count": null,
   "metadata": {
    "collapsed": true
   },
   "outputs": [],
   "source": [
    "### Visualize your network's feature maps here.\n",
    "### Feel free to use as many code cells as needed.\n",
    "\n",
    "# image_input: the test image being fed into the network to produce the feature maps\n",
    "# tf_activation: should be a tf variable name used during your training procedure that represents the calculated state of a specific weight layer\n",
    "# activation_min/max: can be used to view the activation contrast in more detail, by default matplot sets min and max to the actual min and max values of the output\n",
    "# plt_num: used to plot out multiple different weight feature map sets on the same block, just extend the plt number for each new feature map entry\n",
    "\n",
    "def outputFeatureMap(image_input, tf_activation, activation_min=-1, activation_max=-1 ,plt_num=1):\n",
    "    # Here make sure to preprocess your image_input in a way your network expects\n",
    "    # with size, normalization, ect if needed\n",
    "    # image_input =\n",
    "    # Note: x should be the same name as your network's tensorflow data placeholder variable\n",
    "    # If you get an error tf_activation is not defined it may be having trouble accessing the variable from inside a function\n",
    "    activation = tf_activation.eval(session=sess,feed_dict={x : image_input})\n",
    "    featuremaps = activation.shape[3]\n",
    "    plt.figure(plt_num, figsize=(15,15))\n",
    "    for featuremap in range(featuremaps):\n",
    "        plt.subplot(6,8, featuremap+1) # sets the number of feature maps to show on each row and column\n",
    "        plt.title('FeatureMap ' + str(featuremap)) # displays the feature map number\n",
    "        if activation_min != -1 & activation_max != -1:\n",
    "            plt.imshow(activation[0,:,:, featuremap], interpolation=\"nearest\", vmin =activation_min, vmax=activation_max, cmap=\"gray\")\n",
    "        elif activation_max != -1:\n",
    "            plt.imshow(activation[0,:,:, featuremap], interpolation=\"nearest\", vmax=activation_max, cmap=\"gray\")\n",
    "        elif activation_min !=-1:\n",
    "            plt.imshow(activation[0,:,:, featuremap], interpolation=\"nearest\", vmin=activation_min, cmap=\"gray\")\n",
    "        else:\n",
    "            plt.imshow(activation[0,:,:, featuremap], interpolation=\"nearest\", cmap=\"gray\")"
   ]
  }
 ],
 "metadata": {
  "anaconda-cloud": {},
  "kernelspec": {
   "display_name": "Python 3",
   "language": "python",
   "name": "python3"
  },
  "language_info": {
   "codemirror_mode": {
    "name": "ipython",
    "version": 3
   },
   "file_extension": ".py",
   "mimetype": "text/x-python",
   "name": "python",
   "nbconvert_exporter": "python",
   "pygments_lexer": "ipython3",
   "version": "3.6.4"
  }
 },
 "nbformat": 4,
 "nbformat_minor": 1
}
